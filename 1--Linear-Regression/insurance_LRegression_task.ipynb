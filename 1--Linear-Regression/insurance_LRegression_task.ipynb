{
 "cells": [
  {
   "cell_type": "code",
   "execution_count": 1,
   "id": "0970a6b9",
   "metadata": {},
   "outputs": [],
   "source": [
    "import pandas as pd\n",
    "import seaborn as sns\n",
    "import warnings\n",
    "warnings.filterwarnings('ignore')"
   ]
  },
  {
   "cell_type": "code",
   "execution_count": 2,
   "id": "b7538936",
   "metadata": {},
   "outputs": [
    {
     "name": "stdout",
     "output_type": "stream",
     "text": [
      "(1338, 7)\n"
     ]
    }
   ],
   "source": [
    "data= pd.read_csv('insurance (1).csv')\n",
    "print(data.shape)"
   ]
  },
  {
   "cell_type": "code",
   "execution_count": 3,
   "id": "11f6a782",
   "metadata": {},
   "outputs": [
    {
     "data": {
      "text/html": [
       "<div>\n",
       "<style scoped>\n",
       "    .dataframe tbody tr th:only-of-type {\n",
       "        vertical-align: middle;\n",
       "    }\n",
       "\n",
       "    .dataframe tbody tr th {\n",
       "        vertical-align: top;\n",
       "    }\n",
       "\n",
       "    .dataframe thead th {\n",
       "        text-align: right;\n",
       "    }\n",
       "</style>\n",
       "<table border=\"1\" class=\"dataframe\">\n",
       "  <thead>\n",
       "    <tr style=\"text-align: right;\">\n",
       "      <th></th>\n",
       "      <th>age</th>\n",
       "      <th>sex</th>\n",
       "      <th>bmi</th>\n",
       "      <th>children</th>\n",
       "      <th>smoker</th>\n",
       "      <th>region</th>\n",
       "      <th>charges</th>\n",
       "    </tr>\n",
       "  </thead>\n",
       "  <tbody>\n",
       "    <tr>\n",
       "      <th>0</th>\n",
       "      <td>19</td>\n",
       "      <td>female</td>\n",
       "      <td>27.900</td>\n",
       "      <td>0</td>\n",
       "      <td>yes</td>\n",
       "      <td>southwest</td>\n",
       "      <td>16884.92400</td>\n",
       "    </tr>\n",
       "    <tr>\n",
       "      <th>1</th>\n",
       "      <td>18</td>\n",
       "      <td>male</td>\n",
       "      <td>33.770</td>\n",
       "      <td>1</td>\n",
       "      <td>no</td>\n",
       "      <td>southeast</td>\n",
       "      <td>1725.55230</td>\n",
       "    </tr>\n",
       "    <tr>\n",
       "      <th>2</th>\n",
       "      <td>28</td>\n",
       "      <td>male</td>\n",
       "      <td>33.000</td>\n",
       "      <td>3</td>\n",
       "      <td>no</td>\n",
       "      <td>southeast</td>\n",
       "      <td>4449.46200</td>\n",
       "    </tr>\n",
       "    <tr>\n",
       "      <th>3</th>\n",
       "      <td>33</td>\n",
       "      <td>male</td>\n",
       "      <td>22.705</td>\n",
       "      <td>0</td>\n",
       "      <td>no</td>\n",
       "      <td>northwest</td>\n",
       "      <td>21984.47061</td>\n",
       "    </tr>\n",
       "    <tr>\n",
       "      <th>4</th>\n",
       "      <td>32</td>\n",
       "      <td>male</td>\n",
       "      <td>28.880</td>\n",
       "      <td>0</td>\n",
       "      <td>no</td>\n",
       "      <td>northwest</td>\n",
       "      <td>3866.85520</td>\n",
       "    </tr>\n",
       "  </tbody>\n",
       "</table>\n",
       "</div>"
      ],
      "text/plain": [
       "   age     sex     bmi  children smoker     region      charges\n",
       "0   19  female  27.900         0    yes  southwest  16884.92400\n",
       "1   18    male  33.770         1     no  southeast   1725.55230\n",
       "2   28    male  33.000         3     no  southeast   4449.46200\n",
       "3   33    male  22.705         0     no  northwest  21984.47061\n",
       "4   32    male  28.880         0     no  northwest   3866.85520"
      ]
     },
     "execution_count": 3,
     "metadata": {},
     "output_type": "execute_result"
    }
   ],
   "source": [
    "data.head()"
   ]
  },
  {
   "cell_type": "code",
   "execution_count": 4,
   "id": "debc98b9",
   "metadata": {},
   "outputs": [
    {
     "name": "stdout",
     "output_type": "stream",
     "text": [
      "<class 'pandas.core.frame.DataFrame'>\n",
      "RangeIndex: 1338 entries, 0 to 1337\n",
      "Data columns (total 7 columns):\n",
      " #   Column    Non-Null Count  Dtype  \n",
      "---  ------    --------------  -----  \n",
      " 0   age       1338 non-null   int64  \n",
      " 1   sex       1338 non-null   object \n",
      " 2   bmi       1338 non-null   float64\n",
      " 3   children  1338 non-null   int64  \n",
      " 4   smoker    1338 non-null   object \n",
      " 5   region    1338 non-null   object \n",
      " 6   charges   1338 non-null   float64\n",
      "dtypes: float64(2), int64(2), object(3)\n",
      "memory usage: 73.3+ KB\n"
     ]
    }
   ],
   "source": [
    "data.info()"
   ]
  },
  {
   "cell_type": "code",
   "execution_count": 5,
   "id": "ed92b04e",
   "metadata": {},
   "outputs": [
    {
     "data": {
      "text/html": [
       "<div>\n",
       "<style scoped>\n",
       "    .dataframe tbody tr th:only-of-type {\n",
       "        vertical-align: middle;\n",
       "    }\n",
       "\n",
       "    .dataframe tbody tr th {\n",
       "        vertical-align: top;\n",
       "    }\n",
       "\n",
       "    .dataframe thead th {\n",
       "        text-align: right;\n",
       "    }\n",
       "</style>\n",
       "<table border=\"1\" class=\"dataframe\">\n",
       "  <thead>\n",
       "    <tr style=\"text-align: right;\">\n",
       "      <th></th>\n",
       "      <th>age</th>\n",
       "      <th>bmi</th>\n",
       "      <th>children</th>\n",
       "      <th>charges</th>\n",
       "    </tr>\n",
       "  </thead>\n",
       "  <tbody>\n",
       "    <tr>\n",
       "      <th>count</th>\n",
       "      <td>1338.000000</td>\n",
       "      <td>1338.000000</td>\n",
       "      <td>1338.000000</td>\n",
       "      <td>1338.000000</td>\n",
       "    </tr>\n",
       "    <tr>\n",
       "      <th>mean</th>\n",
       "      <td>39.207025</td>\n",
       "      <td>30.663397</td>\n",
       "      <td>1.094918</td>\n",
       "      <td>13270.422265</td>\n",
       "    </tr>\n",
       "    <tr>\n",
       "      <th>std</th>\n",
       "      <td>14.049960</td>\n",
       "      <td>6.098187</td>\n",
       "      <td>1.205493</td>\n",
       "      <td>12110.011237</td>\n",
       "    </tr>\n",
       "    <tr>\n",
       "      <th>min</th>\n",
       "      <td>18.000000</td>\n",
       "      <td>15.960000</td>\n",
       "      <td>0.000000</td>\n",
       "      <td>1121.873900</td>\n",
       "    </tr>\n",
       "    <tr>\n",
       "      <th>25%</th>\n",
       "      <td>27.000000</td>\n",
       "      <td>26.296250</td>\n",
       "      <td>0.000000</td>\n",
       "      <td>4740.287150</td>\n",
       "    </tr>\n",
       "    <tr>\n",
       "      <th>50%</th>\n",
       "      <td>39.000000</td>\n",
       "      <td>30.400000</td>\n",
       "      <td>1.000000</td>\n",
       "      <td>9382.033000</td>\n",
       "    </tr>\n",
       "    <tr>\n",
       "      <th>75%</th>\n",
       "      <td>51.000000</td>\n",
       "      <td>34.693750</td>\n",
       "      <td>2.000000</td>\n",
       "      <td>16639.912515</td>\n",
       "    </tr>\n",
       "    <tr>\n",
       "      <th>max</th>\n",
       "      <td>64.000000</td>\n",
       "      <td>53.130000</td>\n",
       "      <td>5.000000</td>\n",
       "      <td>63770.428010</td>\n",
       "    </tr>\n",
       "  </tbody>\n",
       "</table>\n",
       "</div>"
      ],
      "text/plain": [
       "               age          bmi     children       charges\n",
       "count  1338.000000  1338.000000  1338.000000   1338.000000\n",
       "mean     39.207025    30.663397     1.094918  13270.422265\n",
       "std      14.049960     6.098187     1.205493  12110.011237\n",
       "min      18.000000    15.960000     0.000000   1121.873900\n",
       "25%      27.000000    26.296250     0.000000   4740.287150\n",
       "50%      39.000000    30.400000     1.000000   9382.033000\n",
       "75%      51.000000    34.693750     2.000000  16639.912515\n",
       "max      64.000000    53.130000     5.000000  63770.428010"
      ]
     },
     "execution_count": 5,
     "metadata": {},
     "output_type": "execute_result"
    }
   ],
   "source": [
    "data.describe()"
   ]
  },
  {
   "cell_type": "code",
   "execution_count": 6,
   "id": "b145ca47",
   "metadata": {},
   "outputs": [
    {
     "data": {
      "text/plain": [
       "age         0\n",
       "sex         0\n",
       "bmi         0\n",
       "children    0\n",
       "smoker      0\n",
       "region      0\n",
       "charges     0\n",
       "dtype: int64"
      ]
     },
     "execution_count": 6,
     "metadata": {},
     "output_type": "execute_result"
    }
   ],
   "source": [
    "data.isnull().sum()"
   ]
  },
  {
   "cell_type": "code",
   "execution_count": 7,
   "id": "9c03bc8d",
   "metadata": {},
   "outputs": [],
   "source": [
    "#data.drop('children: 0', axis=1, inplace=True)"
   ]
  },
  {
   "cell_type": "code",
   "execution_count": 8,
   "id": "60e2749a",
   "metadata": {},
   "outputs": [
    {
     "data": {
      "text/html": [
       "<div>\n",
       "<style scoped>\n",
       "    .dataframe tbody tr th:only-of-type {\n",
       "        vertical-align: middle;\n",
       "    }\n",
       "\n",
       "    .dataframe tbody tr th {\n",
       "        vertical-align: top;\n",
       "    }\n",
       "\n",
       "    .dataframe thead th {\n",
       "        text-align: right;\n",
       "    }\n",
       "</style>\n",
       "<table border=\"1\" class=\"dataframe\">\n",
       "  <thead>\n",
       "    <tr style=\"text-align: right;\">\n",
       "      <th></th>\n",
       "      <th>age</th>\n",
       "      <th>sex</th>\n",
       "      <th>bmi</th>\n",
       "      <th>children</th>\n",
       "      <th>smoker</th>\n",
       "      <th>region</th>\n",
       "      <th>charges</th>\n",
       "    </tr>\n",
       "  </thead>\n",
       "  <tbody>\n",
       "    <tr>\n",
       "      <th>0</th>\n",
       "      <td>19</td>\n",
       "      <td>female</td>\n",
       "      <td>27.900</td>\n",
       "      <td>0</td>\n",
       "      <td>yes</td>\n",
       "      <td>southwest</td>\n",
       "      <td>16884.92400</td>\n",
       "    </tr>\n",
       "    <tr>\n",
       "      <th>1</th>\n",
       "      <td>18</td>\n",
       "      <td>male</td>\n",
       "      <td>33.770</td>\n",
       "      <td>1</td>\n",
       "      <td>no</td>\n",
       "      <td>southeast</td>\n",
       "      <td>1725.55230</td>\n",
       "    </tr>\n",
       "    <tr>\n",
       "      <th>2</th>\n",
       "      <td>28</td>\n",
       "      <td>male</td>\n",
       "      <td>33.000</td>\n",
       "      <td>3</td>\n",
       "      <td>no</td>\n",
       "      <td>southeast</td>\n",
       "      <td>4449.46200</td>\n",
       "    </tr>\n",
       "    <tr>\n",
       "      <th>3</th>\n",
       "      <td>33</td>\n",
       "      <td>male</td>\n",
       "      <td>22.705</td>\n",
       "      <td>0</td>\n",
       "      <td>no</td>\n",
       "      <td>northwest</td>\n",
       "      <td>21984.47061</td>\n",
       "    </tr>\n",
       "    <tr>\n",
       "      <th>4</th>\n",
       "      <td>32</td>\n",
       "      <td>male</td>\n",
       "      <td>28.880</td>\n",
       "      <td>0</td>\n",
       "      <td>no</td>\n",
       "      <td>northwest</td>\n",
       "      <td>3866.85520</td>\n",
       "    </tr>\n",
       "  </tbody>\n",
       "</table>\n",
       "</div>"
      ],
      "text/plain": [
       "   age     sex     bmi  children smoker     region      charges\n",
       "0   19  female  27.900         0    yes  southwest  16884.92400\n",
       "1   18    male  33.770         1     no  southeast   1725.55230\n",
       "2   28    male  33.000         3     no  southeast   4449.46200\n",
       "3   33    male  22.705         0     no  northwest  21984.47061\n",
       "4   32    male  28.880         0     no  northwest   3866.85520"
      ]
     },
     "execution_count": 8,
     "metadata": {},
     "output_type": "execute_result"
    }
   ],
   "source": [
    "data.head()"
   ]
  },
  {
   "cell_type": "code",
   "execution_count": 9,
   "id": "1c3c6283",
   "metadata": {},
   "outputs": [
    {
     "data": {
      "text/plain": [
       "<AxesSubplot:>"
      ]
     },
     "execution_count": 9,
     "metadata": {},
     "output_type": "execute_result"
    },
    {
     "data": {
      "image/png": "[encoded data removed]",
      "text/plain": [
       "<Figure size 432x288 with 2 Axes>"
      ]
     },
     "metadata": {
      "needs_background": "light"
     },
     "output_type": "display_data"
    }
   ],
   "source": [
    "cor= data.corr()\n",
    "sns.heatmap(cor)"
   ]
  },
  {
   "cell_type": "code",
   "execution_count": 10,
   "id": "e285524c",
   "metadata": {},
   "outputs": [
    {
     "name": "stdout",
     "output_type": "stream",
     "text": [
      "<class 'pandas.core.frame.DataFrame'>\n",
      "RangeIndex: 1338 entries, 0 to 1337\n",
      "Data columns (total 7 columns):\n",
      " #   Column    Non-Null Count  Dtype  \n",
      "---  ------    --------------  -----  \n",
      " 0   age       1338 non-null   int64  \n",
      " 1   sex       1338 non-null   object \n",
      " 2   bmi       1338 non-null   float64\n",
      " 3   children  1338 non-null   int64  \n",
      " 4   smoker    1338 non-null   object \n",
      " 5   region    1338 non-null   object \n",
      " 6   charges   1338 non-null   float64\n",
      "dtypes: float64(2), int64(2), object(3)\n",
      "memory usage: 73.3+ KB\n"
     ]
    }
   ],
   "source": [
    "data.info()"
   ]
  },
  {
   "cell_type": "code",
   "execution_count": 11,
   "id": "f43b064f",
   "metadata": {},
   "outputs": [
    {
     "ename": "SyntaxError",
     "evalue": "invalid syntax (Temp/ipykernel_8176/4003511595.py, line 1)",
     "output_type": "error",
     "traceback": [
      "\u001b[1;36m  File \u001b[1;32m\"C:\\Users\\User\\AppData\\Local\\Temp/ipykernel_8176/4003511595.py\"\u001b[1;36m, line \u001b[1;32m1\u001b[0m\n\u001b[1;33m    dtype['sex']=\u001b[0m\n\u001b[1;37m                  ^\u001b[0m\n\u001b[1;31mSyntaxError\u001b[0m\u001b[1;31m:\u001b[0m invalid syntax\n"
     ]
    }
   ],
   "source": [
    "dtype['sex']= "
   ]
  },
  {
   "cell_type": "code",
   "execution_count": 12,
   "id": "c4d68696",
   "metadata": {},
   "outputs": [],
   "source": [
    "data['smoker'] = data['smoker'].replace('yes',1)\n",
    "data['smoker'] = data['smoker'].replace('no',0)\n",
    "data['sex'] = data['sex'].replace('female',1)\n",
    "data['sex'] = data['smoker'].replace('male',0)"
   ]
  },
  {
   "cell_type": "code",
   "execution_count": 13,
   "id": "892f68c7",
   "metadata": {},
   "outputs": [
    {
     "data": {
      "text/plain": [
       "<AxesSubplot:>"
      ]
     },
     "execution_count": 13,
     "metadata": {},
     "output_type": "execute_result"
    },
    {
     "data": {
      "image/png": "[encoded data removed]",
      "text/plain": [
       "<Figure size 432x288 with 2 Axes>"
      ]
     },
     "metadata": {
      "needs_background": "light"
     },
     "output_type": "display_data"
    }
   ],
   "source": [
    "cor= data.corr()\n",
    "sns.heatmap(cor)"
   ]
  },
  {
   "cell_type": "code",
   "execution_count": 14,
   "id": "d1ddf78a",
   "metadata": {},
   "outputs": [
    {
     "data": {
      "text/html": [
       "<div>\n",
       "<style scoped>\n",
       "    .dataframe tbody tr th:only-of-type {\n",
       "        vertical-align: middle;\n",
       "    }\n",
       "\n",
       "    .dataframe tbody tr th {\n",
       "        vertical-align: top;\n",
       "    }\n",
       "\n",
       "    .dataframe thead th {\n",
       "        text-align: right;\n",
       "    }\n",
       "</style>\n",
       "<table border=\"1\" class=\"dataframe\">\n",
       "  <thead>\n",
       "    <tr style=\"text-align: right;\">\n",
       "      <th></th>\n",
       "      <th>age</th>\n",
       "      <th>sex</th>\n",
       "      <th>bmi</th>\n",
       "      <th>children</th>\n",
       "      <th>smoker</th>\n",
       "      <th>region</th>\n",
       "      <th>charges</th>\n",
       "    </tr>\n",
       "  </thead>\n",
       "  <tbody>\n",
       "    <tr>\n",
       "      <th>0</th>\n",
       "      <td>19</td>\n",
       "      <td>1</td>\n",
       "      <td>27.900</td>\n",
       "      <td>0</td>\n",
       "      <td>1</td>\n",
       "      <td>southwest</td>\n",
       "      <td>16884.92400</td>\n",
       "    </tr>\n",
       "    <tr>\n",
       "      <th>1</th>\n",
       "      <td>18</td>\n",
       "      <td>0</td>\n",
       "      <td>33.770</td>\n",
       "      <td>1</td>\n",
       "      <td>0</td>\n",
       "      <td>southeast</td>\n",
       "      <td>1725.55230</td>\n",
       "    </tr>\n",
       "    <tr>\n",
       "      <th>2</th>\n",
       "      <td>28</td>\n",
       "      <td>0</td>\n",
       "      <td>33.000</td>\n",
       "      <td>3</td>\n",
       "      <td>0</td>\n",
       "      <td>southeast</td>\n",
       "      <td>4449.46200</td>\n",
       "    </tr>\n",
       "    <tr>\n",
       "      <th>3</th>\n",
       "      <td>33</td>\n",
       "      <td>0</td>\n",
       "      <td>22.705</td>\n",
       "      <td>0</td>\n",
       "      <td>0</td>\n",
       "      <td>northwest</td>\n",
       "      <td>21984.47061</td>\n",
       "    </tr>\n",
       "    <tr>\n",
       "      <th>4</th>\n",
       "      <td>32</td>\n",
       "      <td>0</td>\n",
       "      <td>28.880</td>\n",
       "      <td>0</td>\n",
       "      <td>0</td>\n",
       "      <td>northwest</td>\n",
       "      <td>3866.85520</td>\n",
       "    </tr>\n",
       "  </tbody>\n",
       "</table>\n",
       "</div>"
      ],
      "text/plain": [
       "   age  sex     bmi  children  smoker     region      charges\n",
       "0   19    1  27.900         0       1  southwest  16884.92400\n",
       "1   18    0  33.770         1       0  southeast   1725.55230\n",
       "2   28    0  33.000         3       0  southeast   4449.46200\n",
       "3   33    0  22.705         0       0  northwest  21984.47061\n",
       "4   32    0  28.880         0       0  northwest   3866.85520"
      ]
     },
     "execution_count": 14,
     "metadata": {},
     "output_type": "execute_result"
    }
   ],
   "source": [
    "data.head()"
   ]
  },
  {
   "cell_type": "code",
   "execution_count": 15,
   "id": "69a888f8",
   "metadata": {},
   "outputs": [],
   "source": [
    "X= data.loc[:,['age', 'sex','bmi','children','smoker']]\n",
    "Y= data.charges\n",
    "# Y=Y/1000"
   ]
  },
  {
   "cell_type": "code",
   "execution_count": 16,
   "id": "d68ac15a",
   "metadata": {},
   "outputs": [
    {
     "data": {
      "text/html": [
       "<div>\n",
       "<style scoped>\n",
       "    .dataframe tbody tr th:only-of-type {\n",
       "        vertical-align: middle;\n",
       "    }\n",
       "\n",
       "    .dataframe tbody tr th {\n",
       "        vertical-align: top;\n",
       "    }\n",
       "\n",
       "    .dataframe thead th {\n",
       "        text-align: right;\n",
       "    }\n",
       "</style>\n",
       "<table border=\"1\" class=\"dataframe\">\n",
       "  <thead>\n",
       "    <tr style=\"text-align: right;\">\n",
       "      <th></th>\n",
       "      <th>age</th>\n",
       "      <th>sex</th>\n",
       "      <th>bmi</th>\n",
       "      <th>children</th>\n",
       "      <th>smoker</th>\n",
       "    </tr>\n",
       "  </thead>\n",
       "  <tbody>\n",
       "    <tr>\n",
       "      <th>0</th>\n",
       "      <td>19</td>\n",
       "      <td>1</td>\n",
       "      <td>27.900</td>\n",
       "      <td>0</td>\n",
       "      <td>1</td>\n",
       "    </tr>\n",
       "    <tr>\n",
       "      <th>1</th>\n",
       "      <td>18</td>\n",
       "      <td>0</td>\n",
       "      <td>33.770</td>\n",
       "      <td>1</td>\n",
       "      <td>0</td>\n",
       "    </tr>\n",
       "    <tr>\n",
       "      <th>2</th>\n",
       "      <td>28</td>\n",
       "      <td>0</td>\n",
       "      <td>33.000</td>\n",
       "      <td>3</td>\n",
       "      <td>0</td>\n",
       "    </tr>\n",
       "    <tr>\n",
       "      <th>3</th>\n",
       "      <td>33</td>\n",
       "      <td>0</td>\n",
       "      <td>22.705</td>\n",
       "      <td>0</td>\n",
       "      <td>0</td>\n",
       "    </tr>\n",
       "    <tr>\n",
       "      <th>4</th>\n",
       "      <td>32</td>\n",
       "      <td>0</td>\n",
       "      <td>28.880</td>\n",
       "      <td>0</td>\n",
       "      <td>0</td>\n",
       "    </tr>\n",
       "  </tbody>\n",
       "</table>\n",
       "</div>"
      ],
      "text/plain": [
       "   age  sex     bmi  children  smoker\n",
       "0   19    1  27.900         0       1\n",
       "1   18    0  33.770         1       0\n",
       "2   28    0  33.000         3       0\n",
       "3   33    0  22.705         0       0\n",
       "4   32    0  28.880         0       0"
      ]
     },
     "execution_count": 16,
     "metadata": {},
     "output_type": "execute_result"
    }
   ],
   "source": [
    "X.head()"
   ]
  },
  {
   "cell_type": "code",
   "execution_count": 17,
   "id": "aad6b198",
   "metadata": {},
   "outputs": [
    {
     "data": {
      "text/plain": [
       "0    16884.92400\n",
       "1     1725.55230\n",
       "2     4449.46200\n",
       "3    21984.47061\n",
       "4     3866.85520\n",
       "Name: charges, dtype: float64"
      ]
     },
     "execution_count": 17,
     "metadata": {},
     "output_type": "execute_result"
    }
   ],
   "source": [
    "Y.head()"
   ]
  },
  {
   "cell_type": "code",
   "execution_count": 21,
   "id": "8bb15879",
   "metadata": {},
   "outputs": [],
   "source": [
    "from sklearn.model_selection import train_test_split\n",
    "X_train, X_test, Y_train, Y_test = train_test_split(X,Y,random_state= 60, test_size=0.3)"
   ]
  },
  {
   "cell_type": "code",
   "execution_count": 18,
   "id": "d7b7e00e",
   "metadata": {},
   "outputs": [],
   "source": [
    "from sklearn.linear_model import LinearRegression\n",
    "\n",
    "model = LinearRegression()\n",
    "\n",
    "#model.fit(X,Y)"
   ]
  },
  {
   "cell_type": "code",
   "execution_count": 22,
   "id": "cc209e7e",
   "metadata": {},
   "outputs": [
    {
     "ename": "AttributeError",
     "evalue": "'LinearRegression' object has no attribute 'coef_'",
     "output_type": "error",
     "traceback": [
      "\u001b[1;31m---------------------------------------------------------------------------\u001b[0m",
      "\u001b[1;31mAttributeError\u001b[0m                            Traceback (most recent call last)",
      "\u001b[1;32m~\\AppData\\Local\\Temp/ipykernel_8176/1245623235.py\u001b[0m in \u001b[0;36m<module>\u001b[1;34m\u001b[0m\n\u001b[1;32m----> 1\u001b[1;33m \u001b[0mmodel\u001b[0m\u001b[1;33m.\u001b[0m\u001b[0mcoef_\u001b[0m\u001b[1;33m\u001b[0m\u001b[1;33m\u001b[0m\u001b[0m\n\u001b[0m",
      "\u001b[1;31mAttributeError\u001b[0m: 'LinearRegression' object has no attribute 'coef_'"
     ]
    }
   ],
   "source": [
    "model.coef_"
   ]
  },
  {
   "cell_type": "code",
   "execution_count": 20,
   "id": "86a717b1",
   "metadata": {},
   "outputs": [
    {
     "ename": "AttributeError",
     "evalue": "'LinearRegression' object has no attribute 'intercept_'",
     "output_type": "error",
     "traceback": [
      "\u001b[1;31m---------------------------------------------------------------------------\u001b[0m",
      "\u001b[1;31mAttributeError\u001b[0m                            Traceback (most recent call last)",
      "\u001b[1;32m~\\AppData\\Local\\Temp/ipykernel_8176/1895106156.py\u001b[0m in \u001b[0;36m<module>\u001b[1;34m\u001b[0m\n\u001b[1;32m----> 1\u001b[1;33m \u001b[0mmodel\u001b[0m\u001b[1;33m.\u001b[0m\u001b[0mintercept_\u001b[0m\u001b[1;33m\u001b[0m\u001b[1;33m\u001b[0m\u001b[0m\n\u001b[0m",
      "\u001b[1;31mAttributeError\u001b[0m: 'LinearRegression' object has no attribute 'intercept_'"
     ]
    }
   ],
   "source": [
    "model.intercept_"
   ]
  },
  {
   "cell_type": "code",
   "execution_count": 239,
   "id": "1cd312d8",
   "metadata": {},
   "outputs": [
    {
     "data": {
      "text/html": [
       "<div>\n",
       "<style scoped>\n",
       "    .dataframe tbody tr th:only-of-type {\n",
       "        vertical-align: middle;\n",
       "    }\n",
       "\n",
       "    .dataframe tbody tr th {\n",
       "        vertical-align: top;\n",
       "    }\n",
       "\n",
       "    .dataframe thead th {\n",
       "        text-align: right;\n",
       "    }\n",
       "</style>\n",
       "<table border=\"1\" class=\"dataframe\">\n",
       "  <thead>\n",
       "    <tr style=\"text-align: right;\">\n",
       "      <th></th>\n",
       "      <th>age</th>\n",
       "      <th>sex</th>\n",
       "      <th>bmi</th>\n",
       "      <th>children</th>\n",
       "      <th>smoker</th>\n",
       "      <th>region</th>\n",
       "      <th>charges</th>\n",
       "    </tr>\n",
       "  </thead>\n",
       "  <tbody>\n",
       "    <tr>\n",
       "      <th>0</th>\n",
       "      <td>19</td>\n",
       "      <td>1</td>\n",
       "      <td>27.900</td>\n",
       "      <td>0</td>\n",
       "      <td>1</td>\n",
       "      <td>southwest</td>\n",
       "      <td>16884.92400</td>\n",
       "    </tr>\n",
       "    <tr>\n",
       "      <th>1</th>\n",
       "      <td>18</td>\n",
       "      <td>0</td>\n",
       "      <td>33.770</td>\n",
       "      <td>1</td>\n",
       "      <td>0</td>\n",
       "      <td>southeast</td>\n",
       "      <td>1725.55230</td>\n",
       "    </tr>\n",
       "    <tr>\n",
       "      <th>2</th>\n",
       "      <td>28</td>\n",
       "      <td>0</td>\n",
       "      <td>33.000</td>\n",
       "      <td>3</td>\n",
       "      <td>0</td>\n",
       "      <td>southeast</td>\n",
       "      <td>4449.46200</td>\n",
       "    </tr>\n",
       "    <tr>\n",
       "      <th>3</th>\n",
       "      <td>33</td>\n",
       "      <td>0</td>\n",
       "      <td>22.705</td>\n",
       "      <td>0</td>\n",
       "      <td>0</td>\n",
       "      <td>northwest</td>\n",
       "      <td>21984.47061</td>\n",
       "    </tr>\n",
       "    <tr>\n",
       "      <th>4</th>\n",
       "      <td>32</td>\n",
       "      <td>0</td>\n",
       "      <td>28.880</td>\n",
       "      <td>0</td>\n",
       "      <td>0</td>\n",
       "      <td>northwest</td>\n",
       "      <td>3866.85520</td>\n",
       "    </tr>\n",
       "  </tbody>\n",
       "</table>\n",
       "</div>"
      ],
      "text/plain": [
       "   age  sex     bmi  children  smoker     region      charges\n",
       "0   19    1  27.900         0       1  southwest  16884.92400\n",
       "1   18    0  33.770         1       0  southeast   1725.55230\n",
       "2   28    0  33.000         3       0  southeast   4449.46200\n",
       "3   33    0  22.705         0       0  northwest  21984.47061\n",
       "4   32    0  28.880         0       0  northwest   3866.85520"
      ]
     },
     "execution_count": 239,
     "metadata": {},
     "output_type": "execute_result"
    }
   ],
   "source": [
    "data.head()"
   ]
  },
  {
   "cell_type": "code",
   "execution_count": 241,
   "id": "b553d7e6",
   "metadata": {},
   "outputs": [
    {
     "data": {
      "text/plain": [
       "array([7157.21874434])"
      ]
     },
     "execution_count": 241,
     "metadata": {},
     "output_type": "execute_result"
    }
   ],
   "source": [
    "predval=model.predict([[35,0,30.33,1,0]])\n",
    "predval"
   ]
  },
  {
   "cell_type": "code",
   "execution_count": 242,
   "id": "c96a65c4",
   "metadata": {},
   "outputs": [
    {
     "data": {
      "text/plain": [
       "array([7157218.74433974])"
      ]
     },
     "execution_count": 242,
     "metadata": {},
     "output_type": "execute_result"
    }
   ],
   "source": [
    "predval*1000"
   ]
  },
  {
   "cell_type": "code",
   "execution_count": 243,
   "id": "7e7373b1",
   "metadata": {},
   "outputs": [],
   "source": [
    "from sklearn.model_selection import train_test_split\n",
    "X_train, X_test, Y_train, Y_test = train_test_split(X,Y,random_state= 60, test_size=0.3)"
   ]
  },
  {
   "cell_type": "code",
   "execution_count": 23,
   "id": "88c97aee",
   "metadata": {},
   "outputs": [
    {
     "data": {
      "text/plain": [
       "LinearRegression()"
      ]
     },
     "execution_count": 23,
     "metadata": {},
     "output_type": "execute_result"
    }
   ],
   "source": [
    "model.fit(X_train,Y_train)"
   ]
  },
  {
   "cell_type": "code",
   "execution_count": 29,
   "id": "c7251b0a",
   "metadata": {},
   "outputs": [
    {
     "ename": "AttributeError",
     "evalue": "'LinearRegression' object has no attribute 'coeff_'",
     "output_type": "error",
     "traceback": [
      "\u001b[1;31m---------------------------------------------------------------------------\u001b[0m",
      "\u001b[1;31mAttributeError\u001b[0m                            Traceback (most recent call last)",
      "\u001b[1;32m~\\AppData\\Local\\Temp/ipykernel_8176/3479794915.py\u001b[0m in \u001b[0;36m<module>\u001b[1;34m\u001b[0m\n\u001b[1;32m----> 1\u001b[1;33m \u001b[0mmodel\u001b[0m\u001b[1;33m.\u001b[0m\u001b[0mcoeff_\u001b[0m\u001b[1;33m\u001b[0m\u001b[1;33m\u001b[0m\u001b[0m\n\u001b[0m",
      "\u001b[1;31mAttributeError\u001b[0m: 'LinearRegression' object has no attribute 'coeff_'"
     ]
    }
   ],
   "source": [
    "model.coeff_"
   ]
  },
  {
   "cell_type": "code",
   "execution_count": 24,
   "id": "964d8741",
   "metadata": {},
   "outputs": [
    {
     "data": {
      "text/plain": [
       "array([ 3.61606840e+04,  8.49599749e+03,  5.77593542e+03,  3.43032136e+04,\n",
       "        1.33178710e+03,  6.58681540e+03,  8.19692785e+03,  4.20336954e+03,\n",
       "        3.91372488e+03,  6.99558265e+03,  2.16762950e+03,  3.93734188e+04,\n",
       "        9.19415192e+03,  6.74028838e+03,  2.90135808e+04,  3.06060421e+04,\n",
       "        2.14445859e+03,  1.23723258e+04,  1.15617422e+04,  2.76406969e+04,\n",
       "        3.72047349e+04,  8.31889616e+03,  1.25953464e+04,  2.71243094e+04,\n",
       "        1.09027219e+04,  1.09338615e+04,  5.36900261e+03,  1.53378750e+04,\n",
       "        3.56473526e+04,  1.15942693e+04,  3.70976667e+03,  1.01897950e+04,\n",
       "        3.63271167e+04,  1.49703984e+04,  1.10730082e+04,  3.42001658e+04,\n",
       "        1.06781850e+04,  8.42638119e+03,  3.08847113e+04,  1.36496837e+04,\n",
       "        1.88415548e+03,  1.59897451e+04,  3.19286018e+04,  4.91603894e+03,\n",
       "        9.80394520e+03,  1.29558338e+04,  2.44662738e+03,  7.57673874e+03,\n",
       "       -1.85636157e+03,  4.02215278e+04,  9.70373911e+03,  3.40951225e+04,\n",
       "        6.57870740e+03,  7.17302977e+03,  3.41342890e+04,  1.07517018e+04,\n",
       "        9.40795148e+03,  1.06782279e+04,  3.05591611e+04,  1.14997764e+04,\n",
       "        1.09309405e+04,  1.09987052e+04,  3.21007332e+04,  3.61102199e+04,\n",
       "        2.64584246e+04,  4.08543421e+04,  1.67300939e+04,  2.93052381e+04,\n",
       "        1.54873616e+04,  1.20192784e+04,  1.03904025e+04, -8.79688482e+02,\n",
       "        3.49282374e+04,  8.12985035e+03,  1.09453849e+04,  3.19592847e+03,\n",
       "        3.47111900e+04,  5.74374100e+03,  3.66019672e+04,  3.64200075e+04,\n",
       "        1.72228742e+04,  8.71166788e+03,  5.37414019e+03,  3.98999103e+03,\n",
       "        1.26334685e+04,  1.20159600e+04,  3.29869045e+03,  2.49115538e+04,\n",
       "        5.96158105e+03,  1.34123864e+04,  3.11284735e+03,  3.97137962e+04,\n",
       "        7.07809468e+03,  1.28782877e+04,  1.21121474e+04,  1.96945974e+03,\n",
       "        1.15335624e+04,  1.15806904e+04,  6.84578910e+03,  4.97164061e+03,\n",
       "        1.09159463e+04,  9.93270919e+03,  6.23314294e+03,  9.68504434e+03,\n",
       "        9.11673455e+03,  7.20960146e+03,  3.14518099e+04,  1.24460007e+02,\n",
       "        6.34494957e+03,  1.47062871e+04,  5.83044993e+03,  2.03069936e+03,\n",
       "        5.02614455e+03,  5.44737124e+03,  2.65649874e+03,  1.71777477e+04,\n",
       "        9.47238075e+03,  8.80780831e+03,  1.40433557e+04,  3.74724569e+04,\n",
       "        2.66616356e+04,  3.21877643e+04,  1.88292900e+03,  1.09264149e+04,\n",
       "        9.25459014e+03,  2.86448219e+03,  3.41411857e+04,  1.24675296e+04,\n",
       "        6.94054601e+03,  5.73625806e+03,  7.63156080e+03,  1.44411989e+03,\n",
       "       -1.96413239e+03,  8.32769140e+03,  9.26007820e+03,  3.41259981e+04,\n",
       "        6.61678667e+03,  3.66759414e+04,  2.86514363e+03,  4.69966824e+03,\n",
       "        2.84186676e+04,  3.25920554e+04,  1.30569442e+04,  9.03701474e+03,\n",
       "        3.85083676e+04,  3.93148426e+04,  1.25625228e+04,  4.11574905e+04,\n",
       "        1.09026255e+04,  1.36759650e+04,  8.60585619e+03,  1.62047646e+04,\n",
       "        3.60035484e+03,  3.14372698e+03,  1.35677796e+04,  8.95576789e+02,\n",
       "        1.32821814e+04,  1.05814973e+04,  4.73617772e+03,  4.78053927e+03,\n",
       "        3.11678427e+03,  3.25411837e+03, -1.20710549e+03,  9.23141923e+03,\n",
       "        5.21536854e+03,  4.28712515e+03,  1.01612818e+04,  1.02716667e+04,\n",
       "        4.89097358e+03,  9.97429625e+03,  6.42670781e+03,  1.48679348e+03,\n",
       "        3.33633762e+04,  1.30859748e+04,  4.88334012e+03,  3.80252933e+04,\n",
       "        1.22878400e+04,  9.56409199e+03,  1.87884034e+04,  2.93072936e+04,\n",
       "        3.18134485e+04,  7.80882975e+03,  7.58675643e+03,  5.42211245e+03,\n",
       "        9.39719057e+03,  1.18277156e+04,  3.71626601e+03,  3.08016883e+04,\n",
       "        9.56204299e+03,  6.87281764e+03,  1.11368619e+04,  1.25119624e+04,\n",
       "        1.58349104e+04,  5.96934325e+03,  3.00453730e+03,  4.06123308e+03,\n",
       "        8.36567428e+03,  4.43919347e+03,  1.17230374e+04,  1.67952341e+04,\n",
       "        1.15290863e+04,  3.42213201e+04,  5.50552880e+03,  6.49196209e+03,\n",
       "        1.39808296e+04,  5.08360180e+03,  5.81726436e+03,  1.17963396e+04,\n",
       "        1.26674585e+04,  2.02096745e+03,  3.15945786e+03,  5.86738919e+03,\n",
       "        8.93574325e+03,  1.57633309e+04,  7.71355071e+03,  4.50860577e+03,\n",
       "        9.20890323e+03,  1.24471615e+04,  8.38136225e+03,  4.17806264e+04,\n",
       "        1.15706945e+04,  2.98987181e+03,  3.20033881e+04, -3.68885380e+02,\n",
       "        1.06710348e+04,  3.37318858e+04,  9.66578857e+03,  2.14006827e+03,\n",
       "        1.58659158e+03,  1.12737920e+04,  7.66232879e+03,  1.19047290e+04,\n",
       "        1.19337809e+01,  1.81569041e+03,  1.18138832e+04,  4.78053927e+03,\n",
       "        5.62754654e+03,  3.98282598e+04,  1.00658246e+04,  8.84393965e+03,\n",
       "        5.26081726e+03,  1.41615846e+04,  1.08182790e+04,  3.18153324e+04,\n",
       "        1.84001013e+04,  1.51955967e+04,  2.43009097e+04,  7.99751452e+03,\n",
       "        3.37135241e+03,  4.12438278e+04,  1.21049866e+04,  9.62196858e+02,\n",
       "        1.26382992e+04,  1.34577064e+04,  1.19693794e+04,  9.22540968e+03,\n",
       "        1.15656533e+04,  2.99570971e+03,  2.60948592e+04,  3.59563000e+04,\n",
       "        4.96873021e+03,  5.85405714e+03,  7.19830381e+03,  2.23991985e+03,\n",
       "        8.92921157e+03,  2.62329406e+04,  5.04010568e+03,  4.30337164e+03,\n",
       "        1.30984989e+04,  1.02469835e+04,  1.37528173e+04,  7.53940269e+03,\n",
       "        3.88329989e+04,  1.45286789e+04,  3.68036044e+03,  3.20981450e+04,\n",
       "        1.45155468e+04,  3.04843319e+04,  3.36945755e+04,  3.29707478e+04,\n",
       "        5.90079235e+03,  9.54880798e+03,  4.14241571e+03,  3.45273359e+04,\n",
       "        6.86931904e+02,  2.69132504e+04,  1.01025851e+04,  5.70940118e+03,\n",
       "        2.26049849e+03,  8.29729503e+03,  3.50705608e+03,  2.82262499e+04,\n",
       "        3.95956231e+03,  2.62056083e+03,  1.35877272e+03,  1.14772993e+04,\n",
       "        1.15299794e+04,  1.19566512e+04, -2.36431381e+02,  1.41763359e+04,\n",
       "        3.08882726e+04,  3.83375227e+04,  1.22554416e+04,  3.63321474e+03,\n",
       "        3.39225297e+04,  5.27765645e+03,  5.64368542e+03,  6.98701253e+03,\n",
       "        9.76210066e+03,  9.64307510e+03,  3.52950096e+04,  9.87512320e+03,\n",
       "        3.84228059e+04,  1.48853905e+04,  1.30058681e+04, -2.73647565e+03,\n",
       "        3.18703690e+04,  1.07842613e+04,  1.12933158e+04,  7.68291800e+03,\n",
       "        4.02906543e+04,  8.75520286e+03,  1.62570390e+03,  6.21263552e+03,\n",
       "        9.31311278e+03,  9.18295066e+03,  1.31031038e+04,  7.38465379e+03,\n",
       "        4.29893840e+03,  5.74135273e+03,  5.17876266e+03,  7.62270491e+03,\n",
       "        9.08745706e+03,  5.21864402e+03,  7.79536897e+03,  3.78504021e+04,\n",
       "        8.56844892e+03,  1.19360620e+04,  4.03592485e+03,  4.53469361e+03,\n",
       "        1.43150423e+04, -1.10980979e+03,  3.10244231e+04, -5.06476963e+02,\n",
       "        1.43131478e+04,  3.64083488e+04,  8.99266780e+03,  1.16584728e+04,\n",
       "        2.46219718e+03,  3.74431049e+03,  4.11765728e+03,  1.19578777e+04,\n",
       "        8.32542131e+03,  2.66097489e+03,  1.59431710e+04,  1.29369779e+04,\n",
       "        3.54072136e+04,  3.25979508e+04,  2.70135747e+04,  1.07881724e+04,\n",
       "        3.77955462e+03,  5.98264295e+03,  2.38029309e+03,  3.51830419e+04,\n",
       "        1.09027219e+04,  4.62970662e+02,  5.78863121e+03,  1.83922573e+04,\n",
       "        1.53231342e+04,  3.36754874e+04,  3.72176867e+03,  8.47577989e+03,\n",
       "        3.81364753e+03,  1.01527917e+04,  1.12827443e+04,  1.10103639e+04,\n",
       "        6.51126481e+03,  7.62906897e+03,  1.29524125e+04,  5.17637439e+03,\n",
       "        1.20253203e+04,  3.62619981e+03,  1.54571369e+04,  1.29437071e+04,\n",
       "        1.52019350e+04,  3.06486622e+04,  8.36030439e+03,  7.30595646e+03,\n",
       "        1.38877243e+04,  7.96436883e+03,  1.21552142e+03,  3.14348007e+03,\n",
       "        1.71075472e+03,  8.97631839e+03,  7.33636340e+03,  1.58331406e+04,\n",
       "        1.16368030e+04,  7.46140972e+03,  2.78686783e+02,  1.40336067e+04,\n",
       "        2.50921817e+03,  7.58693461e+03,  6.10824310e+03,  1.07298538e+04,\n",
       "        1.47572945e+04,  3.98214704e+03,  3.02874851e+04,  3.34992810e+02,\n",
       "        3.72102336e+04,  3.51968781e+03,  3.66623169e+03,  2.52328602e+04,\n",
       "        1.20328421e+04,  9.12446036e+03,  1.66341105e+04,  1.09029259e+04,\n",
       "        1.02852133e+04,  1.47102306e+04,  3.48637976e+04,  1.55067138e+04,\n",
       "        3.04701345e+04,  2.11875293e+03,  3.47159454e+04,  7.54452971e+03,\n",
       "        2.72746680e+04,  1.64203386e+04,  6.27419124e+02,  1.14572534e+04,\n",
       "        7.23499551e+03,  7.04782705e+03,  3.48392155e+03,  3.88906238e+04,\n",
       "        1.03166427e+04,  2.48555748e+03,  1.10146037e+04,  3.32492842e+04,\n",
       "        3.83049315e+04,  2.77152963e+04,  6.06877626e+03,  9.63185271e+03,\n",
       "        9.17748438e+03,  3.11485539e+04,  1.13494179e+04,  9.03378621e+03,\n",
       "        8.03664862e+03,  1.00676591e+04,  9.16936114e+03,  3.04064354e+04,\n",
       "        1.05546298e+04,  3.72440196e+04,  4.03221055e+04,  1.46308988e+03,\n",
       "        6.04877323e+03,  1.01663918e+04,  1.11731820e+04,  1.20746114e+04,\n",
       "        3.00459479e+04,  2.68863012e+04,  1.56412597e+04,  5.68772076e+03,\n",
       "        6.40153782e+02,  1.60183717e+04,  2.71174450e+04,  1.12113365e+04,\n",
       "        1.43810697e+04,  1.57687648e+04,  2.95813902e+04,  3.47337213e+04,\n",
       "        4.04006847e+04,  4.07103371e+03,  1.30173163e+04,  2.78495029e+04,\n",
       "        1.02335228e+04,  1.16343612e+04,  1.96157285e+03,  2.77181143e+04,\n",
       "        3.29643092e+03,  2.34883133e+03,  1.13627499e+04,  3.43154948e+04,\n",
       "        7.65600764e+03,  3.31136769e+04,  5.52811353e+03,  6.03063230e+03,\n",
       "        1.40871468e+03,  7.39171816e+03, -1.01440201e+03,  2.69874181e+04,\n",
       "        2.40949533e+03,  1.62899936e+04,  2.03911895e+03,  4.02614415e+04,\n",
       "        1.34078073e+04,  4.90724773e+03,  5.51772019e+03,  3.36032465e+04,\n",
       "        1.40191129e+04,  9.62314733e+03,  3.93474985e+04,  9.85665358e+03,\n",
       "        3.27569772e+03,  6.81893222e+03,  1.07298861e+04,  9.78177903e+03,\n",
       "        7.86510343e+03,  1.91751169e+03,  1.22700965e+04,  1.49699945e+04,\n",
       "        5.63066094e+03, -2.68425844e+02,  9.77012863e+02,  1.44568889e+04,\n",
       "        1.77034421e+04,  4.50424779e+03,  9.41632163e+03,  1.19151612e+04,\n",
       "        1.72386375e+04,  2.76957725e+04,  1.45090475e+04,  3.64434424e+04,\n",
       "        3.12394321e+04,  5.40994937e+03,  3.52930154e+03,  8.74290451e+03,\n",
       "        7.39878254e+03,  1.05097396e+04,  2.10364058e+03,  2.99882411e+03,\n",
       "        1.10160771e+04,  7.66487814e+03,  8.99656834e+03,  1.31803277e+04,\n",
       "        1.04896719e+04,  3.03038668e+04,  4.67446809e+02,  1.64247718e+04,\n",
       "        1.14479895e+04,  4.86502616e+02,  8.53070892e+03,  3.02774568e+04,\n",
       "        6.49090726e+03,  2.72932340e+04,  1.01701912e+04,  1.19105669e+04,\n",
       "        2.99268471e+04,  1.47554324e+04,  2.49166914e+04,  3.27920378e+04,\n",
       "        2.96301493e+03,  3.17615328e+04,  7.21621896e+03,  4.53554847e+03,\n",
       "        1.37701569e+04,  3.50824859e+04,  1.03054956e+04,  6.65279984e+03,\n",
       "        6.06449355e+03,  3.11345935e+03,  1.40864696e+04,  1.02222251e+04,\n",
       "        2.25154620e+03,  5.07447785e+03,  3.99753364e+04,  1.43535513e+04,\n",
       "        1.22433749e+04,  7.02627537e+03,  1.43623300e+03,  1.28946694e+04,\n",
       "        1.02986418e+04,  1.35801169e+04,  2.96440345e+04,  7.50556726e+03,\n",
       "        8.54978651e+03,  1.30591179e+04,  8.83783307e+03,  6.90351036e+03,\n",
       "        3.63432305e+03,  2.45110352e+03,  1.31428993e+04,  1.15582133e+04,\n",
       "        8.68873984e+03,  4.96861204e+03,  9.96201903e+03,  1.07838316e+04,\n",
       "        1.25165349e+04, -9.72304033e+02,  5.36452646e+03,  2.80470112e+04,\n",
       "        9.02486626e+03,  9.21089407e+03,  8.67086760e+03,  1.61525267e+04,\n",
       "        1.26470046e+04,  7.42045239e+03,  7.02508124e+03,  9.35760556e+03,\n",
       "        1.13825424e+04,  1.31616006e+04,  1.54275049e+04,  1.24138482e+04,\n",
       "        1.60127873e+04,  3.63533122e+04,  1.56109491e+04,  2.74487302e+04,\n",
       "        8.11760547e+03,  9.37593992e+03,  4.41340199e+03,  8.78279644e+03,\n",
       "        1.09635146e+04,  1.25843280e+04,  7.55414344e+03,  1.24608368e+04,\n",
       "        3.94847923e+03,  3.15292701e+04,  4.78414998e+03,  4.90251410e+03,\n",
       "        6.60331532e+03,  4.77597730e+03,  1.51215043e+04,  1.02986523e+04,\n",
       "        1.21253006e+04,  1.09211915e+04,  1.05053599e+04,  2.01204751e+03,\n",
       "        3.33644951e+04,  6.03895954e+03,  3.89019293e+03,  9.32621905e+03,\n",
       "        1.10878995e+04,  5.86370975e+03,  1.44027995e+04,  3.37278289e+03,\n",
       "        3.09780101e+04,  1.02761963e+04,  7.84920090e+03,  2.84989266e+04,\n",
       "        2.84320531e+04,  6.33586200e+03,  6.86896654e+03,  5.77704373e+03,\n",
       "        1.20926771e+04,  9.81424867e+03,  9.34394546e+03,  7.11957414e+03,\n",
       "        3.32947606e+04,  1.44518529e+03,  4.73561268e+03,  1.14151983e+04,\n",
       "        1.71140275e+04,  2.84523460e+04,  9.85138072e+03,  8.99402955e+03,\n",
       "        9.49876727e+02,  1.39441227e+04,  5.39996402e+03,  8.65170419e+03,\n",
       "        1.22122405e+03,  1.40143575e+04,  3.06200356e+04,  5.29918636e+03,\n",
       "        1.34240280e+04,  1.49524938e+04,  3.67871983e+04,  1.22274658e+04,\n",
       "        1.08348218e+04,  3.52318439e+03,  1.40452436e+04,  9.12344845e+03,\n",
       "        6.07452180e+03,  4.93258177e+03,  3.24753752e+04,  1.44165178e+04,\n",
       "        5.58381813e+03,  9.80082024e+03,  2.83690867e+04,  5.32546762e+03,\n",
       "        1.22604828e+04,  3.42276841e+04,  4.36042089e+03,  8.98046584e+03,\n",
       "        2.42358521e+03,  1.00400978e+04,  3.76606090e+04,  1.53572530e+04,\n",
       "        1.10035348e+03,  1.08623507e+04,  3.47590591e+03,  4.57620541e+03,\n",
       "        1.53423617e+04,  1.97961270e+03,  3.23105657e+04,  9.09194377e+03,\n",
       "        1.38875843e+04,  2.63877753e+04,  3.10104296e+04,  1.53578780e+04,\n",
       "        3.54901231e+04,  9.88785133e+03,  1.17670516e+04,  1.35463032e+04,\n",
       "        3.57990090e+03,  9.53200113e+03,  8.52075592e+03,  8.99982857e+03,\n",
       "        4.63567931e+03,  4.46868149e+03,  1.45916025e+04,  1.35812081e+04,\n",
       "        7.06566695e+03, -7.71205022e+01,  8.60804046e+03,  9.43446256e+03,\n",
       "        1.72813216e+04,  5.02601581e+03,  1.61410990e+03,  1.11406766e+04,\n",
       "        5.19560185e+03,  3.83463013e+03,  1.21319399e+04,  1.55209647e+04,\n",
       "        7.30522380e+03,  5.07690903e+03,  5.58848770e+03,  4.68110221e+03,\n",
       "        2.93570574e+04,  7.81673375e+03,  3.34181091e+03,  3.22459801e+03,\n",
       "        1.19063700e+04,  1.48003332e+04,  9.70388962e+03,  7.03464148e+03,\n",
       "        8.22022814e+03,  1.08246431e+04,  1.36984421e+04,  9.43667918e+03,\n",
       "        3.45072470e+04,  2.63859416e+03,  4.24928223e+03,  2.75990888e+04,\n",
       "        3.11804843e+04,  8.66499736e+03,  1.43289111e+04,  4.17858028e+04,\n",
       "        1.51618754e+04,  1.06236004e+03,  3.27213990e+04,  1.23751886e+04,\n",
       "        3.37190118e+04,  2.17367140e+03, -1.01008695e+03,  3.18983342e+04,\n",
       "        1.04233700e+04,  1.01105861e+04,  9.67021124e+03,  3.82872051e+04,\n",
       "        2.37696817e+03,  3.94288421e+03,  1.04560041e+04,  3.43310646e+04,\n",
       "        2.98068420e+04,  3.61633264e+03,  6.40111629e+03,  6.88811875e+03,\n",
       "        2.45110352e+03,  1.45891495e+04,  5.67366323e+03,  2.37328963e+04,\n",
       "        2.80277191e+04,  2.63629171e+03,  1.51035139e+04,  3.61788889e+04,\n",
       "        7.39171816e+03,  3.48734113e+04,  7.41594390e+03,  1.05548979e+04,\n",
       "       -3.36890917e+02,  3.34408470e+04,  3.03373194e+04,  3.40534608e+04,\n",
       "        6.38555706e+03,  1.09482800e+04,  1.35398315e+04,  1.34827717e+04,\n",
       "        1.48566457e+04,  1.41927671e+04,  9.92879809e+03,  5.41131111e+03,\n",
       "        5.66524363e+03,  1.66252935e+04,  8.23212254e+03,  7.59546181e+03,\n",
       "        1.00876621e+04,  7.69717549e+03,  5.00174716e+03,  2.78669321e+03,\n",
       "        1.14791872e+04,  2.99316025e+04,  1.43176134e+04,  9.76501106e+03,\n",
       "        2.84629393e+04,  4.42000892e+03,  1.35778614e+04,  6.18488086e+03,\n",
       "        1.00270734e+04,  8.76312210e+03,  5.08023396e+03,  5.56848467e+03,\n",
       "        9.61945732e+03,  2.60080067e+03,  1.13649877e+04,  3.60273791e+04,\n",
       "        3.45483291e+04,  3.98796064e+04,  3.66158636e+04,  9.27477603e+03,\n",
       "        1.43011993e+04,  3.30084838e+04,  3.05452218e+03,  1.29696338e+04,\n",
       "        4.01369463e+03,  7.17094190e+03,  8.30953991e+03,  1.08847209e+04,\n",
       "        6.11886874e+03,  3.21789837e+04,  8.94601842e+03,  1.34102345e+04,\n",
       "        3.70891848e+04,  3.66871962e+04,  1.40951427e+04,  3.28447826e+04,\n",
       "        9.79244355e+03,  1.75013289e+04,  8.01759281e+03,  5.29035876e+03,\n",
       "        3.57851377e+04,  3.04395705e+04,  3.44363219e+03,  5.79467963e+03,\n",
       "        1.09801392e+04,  2.45097157e+04,  1.33803319e+04,  1.58299081e+04,\n",
       "        1.34993146e+04,  1.89058527e+04,  4.61701269e+02,  6.37352675e+03,\n",
       "        1.08264663e+04,  4.77844735e+03,  8.03788566e+03,  5.45410691e+03,\n",
       "        3.24456079e+04,  5.11427338e+03,  6.75063880e+03,  2.37253494e+03,\n",
       "        1.58994749e+04,  2.93563189e+03,  3.16841015e+03,  4.08557145e+04,\n",
       "        1.88283429e+04,  6.36398424e+03,  9.50605913e+03,  2.77322042e+04,\n",
       "        4.14312755e+04,  1.12764766e+04,  7.56199799e+03,  1.14473280e+04,\n",
       "        1.50607650e+04,  1.45861373e+03,  1.29872850e+04,  1.15089222e+04,\n",
       "        1.07888339e+04,  3.90936736e+04,  2.91444367e+04,  6.31865773e+03,\n",
       "        3.66345267e+04,  1.75428971e+03,  7.23240728e+03,  3.96963348e+03,\n",
       "        3.21569963e+04,  8.11727677e+03,  1.17670545e+03,  9.77577601e+03,\n",
       "        1.57602100e+04,  2.64249073e+04,  4.99468278e+03,  3.99222800e+04,\n",
       "        2.61126885e+04,  5.75905332e+03,  1.39081009e+03,  4.34116108e+03,\n",
       "        3.77266211e+04,  1.26022431e+04,  3.43373494e+04,  3.88637822e+03,\n",
       "        1.01121948e+04,  3.41746707e+04,  5.88280194e+03,  3.06098180e+04,\n",
       "        1.14561451e+04,  9.11558333e+03,  4.49944948e+03,  1.81458210e+03,\n",
       "        1.14954079e+04,  2.86951914e+04,  3.40266898e+04,  2.37009018e+04,\n",
       "        3.79289278e+04,  4.08152594e+03,  7.90741194e+03,  9.92243402e+03,\n",
       "        6.73962694e+03,  9.85194576e+03,  5.39101173e+03,  3.68876043e+04,\n",
       "        3.09868765e+04,  6.53234380e+03,  1.41980552e+04, -8.80796790e+02,\n",
       "        2.44530450e+03,  7.11663139e+03,  3.30534063e+04,  1.02379131e+04,\n",
       "        1.00350566e+04,  3.32715599e+03,  1.27634419e+04,  2.70897656e+04,\n",
       "        2.88486426e+04,  3.89110777e+04, -1.12929675e+02,  1.18475681e+04,\n",
       "        2.81467235e+04,  4.74349305e+03,  9.22778738e+03,  4.67921430e+03])"
      ]
     },
     "execution_count": 24,
     "metadata": {},
     "output_type": "execute_result"
    }
   ],
   "source": [
    "Y_p = model.predict(X_train)\n",
    "Y_p"
   ]
  },
  {
   "cell_type": "code",
   "execution_count": 25,
   "id": "5f176056",
   "metadata": {},
   "outputs": [
    {
     "data": {
      "text/plain": [
       "array([ 7434.55283678, 11785.12781952,   863.58232621, 38255.32882018,\n",
       "       13088.08378503, 14647.70448529,  7692.03137622, 10545.78045014,\n",
       "        9921.86898138, 37499.97526581, 29172.77351504, 32969.27441948,\n",
       "       13738.72743181,  5850.94274301, 10779.22015315, 14961.50614901,\n",
       "       37631.20278504, 11034.51442099,   890.68611689, 12220.33274425,\n",
       "        5278.72184604,  6690.82563133,  2711.5353757 ,  8987.45495846,\n",
       "       11808.08416303, 11056.44828274, 33309.28677226, 11004.54314457,\n",
       "       14116.95836316, 15606.6082542 , 11319.2149227 , 13142.23788487,\n",
       "        4898.32777958, 11164.31550077,  6918.06888505, 40813.97099373,\n",
       "        5247.38882025,  2057.02353821,  7473.61167576, -1586.93450932,\n",
       "       12559.64478501,  8690.62775535,  2173.67139623, 11141.33802078,\n",
       "        8033.39894874,  5138.6773032 , 25183.28334993, 12801.93570739,\n",
       "       13124.3332987 ,  8080.94143304,  6487.58233937,  4542.41942052,\n",
       "        5005.6582615 ,  9319.67680799, 17905.5123584 , 11017.17487738,\n",
       "       11832.25577789, 11250.79276314,  6526.88808977,  1417.66697274,\n",
       "        8522.92962642, 10870.72739605, 15922.80286658,  9594.19853671,\n",
       "        3263.07066763,  2269.45078753,  2387.11459766, 12456.92571911,\n",
       "       11216.5664362 , 15325.63010549, 12349.53707676,  9027.91193046,\n",
       "         736.83095352,  3441.6090069 , 17516.89865592,  6617.5833787 ,\n",
       "        4785.37645917, 30933.20568392, 29711.78871611, 10792.53042119,\n",
       "       11438.24048221, 28380.38430842,  4526.30635681,  9859.88614393,\n",
       "       12511.39730976,  7904.85605359,  7140.23860464, 32861.33194313,\n",
       "       11820.9475601 ,  1279.51034715,  2710.87393835, 33665.87366656,\n",
       "        2488.27444568,  5618.88407514,  9551.11042216, -1182.79392217,\n",
       "       17175.52051516, 15291.66593713,  6487.58233937, 11967.03399701,\n",
       "       31670.15026104, 32311.54526039, 10808.58347373, 13453.27313656,\n",
       "       28910.33557445,  8551.07703534, 36751.20687126,  3624.21953502,\n",
       "        9806.16181718, 10610.86058687,  1523.26409263,  6947.69621494,\n",
       "       15180.93123335, 10978.91274522,  9112.25840274,  7785.29779656,\n",
       "        -913.36686407, 11963.67672703,   893.89287025, 32786.14176208,\n",
       "       35402.02661723, 29700.34054993, 17097.48462516,  2541.94932952,\n",
       "       14047.69658349,  7165.73373451, 12054.42613779, 13621.58978956,\n",
       "       10617.9072245 , 15644.58460026, 26488.8962734 , 15206.48637439,\n",
       "       10945.5565327 ,   202.37772555, 30522.05016386,  6652.59584421,\n",
       "        7154.03865692, 38542.49937958,  2378.1193913 , 10424.82809869,\n",
       "       15256.0243793 , 13678.60669622,  5672.26913427,  9626.47225632,\n",
       "        6359.60448677, 33214.01830168,  6686.47822462, 31895.33798299,\n",
       "       26153.2207591 ,  2790.87953356,  8404.03280674, 15982.43381793,\n",
       "        2874.09592073,  3588.15288302,  7447.57731872, 25038.30522134,\n",
       "       16535.91050863,  4342.5486457 , 12315.51942688,  7559.41629221,\n",
       "        7300.37200525, 12918.37303762, 10610.96754991, 12020.64015218,\n",
       "       12808.86481375,  2094.68828278,  5950.70196698, 14537.9275732 ,\n",
       "       12065.61618399,  9549.43707128, 34918.16622097,  7112.92428617,\n",
       "        7803.17003769, 35380.84654903,  7195.27523785, 31128.13230476,\n",
       "       13854.50332469, 14245.79108301,  3734.24988817,  7871.63511053,\n",
       "       13223.28056869,  4466.75470238,   864.94407559,  5548.76742822,\n",
       "       37961.1756729 , 24006.79950065,  7290.03214739,  7429.22182298,\n",
       "        6412.54267494, 10468.22781474, 13831.46115463, 13387.77847389,\n",
       "        1114.02883486,  6719.13412512, 11374.25155592,  5602.57758153,\n",
       "        6410.16497344, 29863.29852301,  -524.38154894, 11937.79941626,\n",
       "        9737.41748788, 31522.62028679, 34518.56583012,  7857.54523355,\n",
       "       31646.97282151,  2873.93483587, 12038.90982136,  5235.06868893,\n",
       "        -494.27500305,  6202.74656819, 33879.55974082, 11068.3968014 ,\n",
       "       12027.66565333,  9376.31557236,  9915.82708732,  9180.72347558,\n",
       "       40350.73215275, 35648.10394237, 29469.39019037,   755.39697704,\n",
       "       11053.64548707, 15390.93786789, 35843.09525328,  4231.49581079,\n",
       "        3046.2701962 , 10931.95643996, 11492.61567808,  7536.87447463,\n",
       "        1588.61476831,  7774.99028373,  6392.32507734, 10867.61299889,\n",
       "       17574.31299063, 25749.24778645, 11203.43902983,  6648.11969767,\n",
       "       31395.06348977,  4322.47035617, 39675.73402944, 13488.888879  ,\n",
       "         750.9208305 , 27005.99471061,  8955.83210797,  9100.85314984,\n",
       "       10618.9620513 , 31626.89453198,  3184.42682179,  7287.81553076,\n",
       "       29161.23952231,  9001.52369896,  9358.6003775 ,  7380.08124612,\n",
       "        8615.23357615,  7893.11153307, 31919.60663296, 29657.4953082 ,\n",
       "       39957.84630187, 16648.95418523,  4596.09430436, 15905.06993352,\n",
       "        4761.27946231, 26229.57272998, 11435.08721037,  5947.49117502,\n",
       "        -294.79293876,  9166.82234959,  9653.71131647, 13050.16559941,\n",
       "       17912.05460495,  8660.65647893,  6800.63020954, 15164.14552374,\n",
       "        7934.96259948, 28599.29379312, 25925.19789644,  1609.63375164,\n",
       "        4977.24216436, 26857.51347431, 13166.97454229,  -254.99740411,\n",
       "        3986.83775514, 10886.79754648, 30663.90736565,  9972.99451061,\n",
       "        9070.41386597,  2924.65640741,  4852.18527902, 10011.39595084,\n",
       "        5918.61110903, 27795.41350705,   143.85508252, 13338.85246342,\n",
       "       11784.89147634, 16549.38186153, 23181.39987876,  4276.05327807,\n",
       "       10792.68093781,  1029.39253788, 14663.2419382 , 11600.80102725,\n",
       "        7310.76534463,   315.76534868, 35696.17976451,  2428.0613539 ,\n",
       "        2933.60870049,  5504.70627482,  5902.76205463, 11437.30382701,\n",
       "       30571.24486255, 14420.95101581, 13319.2275745 , 11115.92871746,\n",
       "        2185.04430409,  7184.91828211,  9424.70888532, 10362.0656523 ,\n",
       "        9294.59620404,  9833.84774829, 29293.19720756, 26027.50243641,\n",
       "       12438.35969558, 38679.2942558 ,  7970.07145979,  4239.253969  ,\n",
       "       29726.25020574,  3428.47692161,  3181.79567923,  3229.07415423,\n",
       "       14069.51227365, 13719.28944316, 16324.40466736, 10519.35334397,\n",
       "        4447.12328382, 14301.85019799,  6819.63253579, 28315.32998708,\n",
       "       11218.85178151,  6561.65364387,  5054.39955959,  -352.20727347,\n",
       "       34300.50717406,  3687.3859391 , 12762.78047362, 10185.4904886 ,\n",
       "       10427.08109896, 10975.34090885, 30370.99375756, 10982.02714239,\n",
       "        5960.05821775,  5070.17335568, 26808.8409049 , 13514.85201632,\n",
       "       12302.09098725,  7872.86159044, 11710.99246527,  7733.34321547,\n",
       "       29296.10356798, 31752.56994139,  3318.81165147,  5267.31659315,\n",
       "        1881.93886373, 11374.13338433, 16221.4321604 ,  6416.56791192,\n",
       "        6698.7660109 ,  9213.05720635,  3958.33583145,  8203.8893051 ,\n",
       "        4788.62612581,  2030.69935648,  8911.47460023,  4162.94491139,\n",
       "        3916.02732583,  5590.33923817, 37427.03404642, 15272.43847626,\n",
       "        4434.09880188,  3654.16499604, 12072.45946379, 11941.19959952,\n",
       "       37039.28577944,  4156.29506149,  6576.54022767,  4114.81560774,\n",
       "       30452.99891198,  1267.79817168,  4674.57706532,  4754.70487073,\n",
       "       11569.46800145, 27634.9837521 ,  3983.30883204, 12325.79459467,\n",
       "       36646.77154121, 11039.65200489,  6924.66461312,  8976.3718753 ,\n",
       "       11086.47957032,  1477.31502197,  2746.279153  ,  2419.10906081,\n",
       "        5496.41541908, 12201.63145126])"
      ]
     },
     "execution_count": 25,
     "metadata": {},
     "output_type": "execute_result"
    }
   ],
   "source": [
    "Y_predict = model.predict(X_test)\n",
    "Y_predict"
   ]
  },
  {
   "cell_type": "code",
   "execution_count": 26,
   "id": "5c938d20",
   "metadata": {},
   "outputs": [
    {
     "name": "stdout",
     "output_type": "stream",
     "text": [
      "0.672684776789497\n",
      "MSE:  39219420.86196441\n",
      "MAE:  4207.60734164488\n"
     ]
    }
   ],
   "source": [
    "from sklearn.metrics import r2_score, mean_squared_error, mean_absolute_error\n",
    "R2Score= r2_score(Y_test,Y_predict)\n",
    "print(R2Score)\n",
    "print(\"MSE: \", mean_squared_error(Y_test,Y_predict))\n",
    "print(\"MAE: \", mean_absolute_error(Y_test, Y_predict))\n",
    "\n",
    "\n"
   ]
  },
  {
   "cell_type": "code",
   "execution_count": 27,
   "id": "75ee0f7d",
   "metadata": {},
   "outputs": [
    {
     "name": "stdout",
     "output_type": "stream",
     "text": [
      "R2Score for training:  0.7735199998445152\n",
      "MSE for training:  35731311.02202089\n",
      "MAE for training:  4133.04104579055\n"
     ]
    }
   ],
   "source": [
    "print(\"R2Score for training: \", r2_score(Y_train,Y_p))\n",
    "print(\"MSE for training: \", mean_squared_error(Y_train,Y_p))\n",
    "print(\"MAE for training: \", mean_absolute_error(Y_train, Y_p))\n"
   ]
  },
  {
   "cell_type": "code",
   "execution_count": 28,
   "id": "2cd3b6f4",
   "metadata": {},
   "outputs": [
    {
     "data": {
      "text/plain": [
       "6262.541086648806"
      ]
     },
     "execution_count": 28,
     "metadata": {},
     "output_type": "execute_result"
    }
   ],
   "source": [
    "import numpy as np\n",
    "np.sqrt(mean_squared_error(Y_test,Y_predict))"
   ]
  },
  {
   "cell_type": "code",
   "execution_count": 257,
   "id": "09a22848",
   "metadata": {},
   "outputs": [
    {
     "data": {
      "text/plain": [
       "0.6658333333333334"
      ]
     },
     "execution_count": 257,
     "metadata": {},
     "output_type": "execute_result"
    }
   ],
   "source": [
    "test_adjusted_r2 = 1-(1-0.67)*(402-1)/(402-5-1)\n",
    "test_adjusted_r2"
   ]
  },
  {
   "cell_type": "code",
   "execution_count": 258,
   "id": "9548ad71",
   "metadata": {},
   "outputs": [
    {
     "data": {
      "text/plain": [
       "(936, 5)"
      ]
     },
     "execution_count": 258,
     "metadata": {},
     "output_type": "execute_result"
    }
   ],
   "source": [
    "X_train.shape"
   ]
  },
  {
   "cell_type": "code",
   "execution_count": 259,
   "id": "9002dd03",
   "metadata": {},
   "outputs": [
    {
     "data": {
      "text/plain": [
       "(402, 5)"
      ]
     },
     "execution_count": 259,
     "metadata": {},
     "output_type": "execute_result"
    }
   ],
   "source": [
    "X_test.shape"
   ]
  },
  {
   "cell_type": "code",
   "execution_count": null,
   "id": "6d42b7f7",
   "metadata": {},
   "outputs": [],
   "source": []
  }
 ],
 "metadata": {
  "kernelspec": {
   "display_name": "Python 3 (ipykernel)",
   "language": "python",
   "name": "python3"
  },
  "language_info": {
   "codemirror_mode": {
    "name": "ipython",
    "version": 3
   },
   "file_extension": ".py",
   "mimetype": "text/x-python",
   "name": "python",
   "nbconvert_exporter": "python",
   "pygments_lexer": "ipython3",
   "version": "3.9.7"
  }
 },
 "nbformat": 4,
 "nbformat_minor": 5
}
